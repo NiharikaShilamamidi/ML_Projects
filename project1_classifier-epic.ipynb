{
 "cells": [
  {
   "cell_type": "code",
   "execution_count": null,
   "metadata": {},
   "outputs": [],
   "source": []
  },
  {
   "cell_type": "code",
   "execution_count": 3,
   "metadata": {},
   "outputs": [
    {
     "data": {
      "text/plain": [
       "array([ 5, 13, 13, ...,  2, 12,  5], dtype=int64)"
      ]
     },
     "execution_count": 3,
     "metadata": {},
     "output_type": "execute_result"
    }
   ],
   "source": [
    "from sklearn.datasets import fetch_20newsgroups\n",
    "targetnames= ['alt.atheism',\n",
    " 'comp.graphics',\n",
    " 'comp.os.ms-windows.misc',\n",
    " 'comp.sys.ibm.pc.hardware',\n",
    " 'comp.sys.mac.hardware',\n",
    " 'comp.windows.x',\n",
    " \n",
    " 'rec.autos',\n",
    " 'rec.motorcycles',\n",
    " 'rec.sport.baseball',\n",
    " 'rec.sport.hockey',\n",
    " 'sci.crypt',\n",
    " 'sci.electronics',\n",
    " 'sci.med',\n",
    " 'sci.space',\n",
    " 'soc.religion.christian',\n",
    " 'talk.politics.guns',\n",
    "\n",
    " ]\n",
    "train_news_data = fetch_20newsgroups(subset=\"train\", categories= targetnames, shuffle=True)\n",
    "test_news_data = fetch_20newsgroups(subset=\"test\", categories= targetnames, shuffle=True)\n"
   ]
  },
  {
   "cell_type": "code",
   "execution_count": 46,
   "metadata": {
    "scrolled": true
   },
   "outputs": [
    {
     "ename": "AttributeError",
     "evalue": "numpy not found",
     "output_type": "error",
     "traceback": [
      "\u001b[1;31m---------------------------------------------------------------------------\u001b[0m",
      "\u001b[1;31mAttributeError\u001b[0m                            Traceback (most recent call last)",
      "\u001b[1;32m<ipython-input-46-5e505dd78740>\u001b[0m in \u001b[0;36m<module>\u001b[1;34m\u001b[0m\n\u001b[0;32m      4\u001b[0m \u001b[0mcv_ft_data\u001b[0m\u001b[1;33m=\u001b[0m\u001b[0mcvobj\u001b[0m\u001b[1;33m.\u001b[0m\u001b[0mfit_transform\u001b[0m\u001b[1;33m(\u001b[0m\u001b[0mtrain_news_data\u001b[0m\u001b[1;33m.\u001b[0m\u001b[0mdata\u001b[0m\u001b[1;33m)\u001b[0m\u001b[1;33m\u001b[0m\u001b[1;33m\u001b[0m\u001b[0m\n\u001b[0;32m      5\u001b[0m \u001b[0mcv_ft_data\u001b[0m\u001b[1;33m.\u001b[0m\u001b[0mshape\u001b[0m\u001b[1;33m\u001b[0m\u001b[1;33m\u001b[0m\u001b[0m\n\u001b[1;32m----> 6\u001b[1;33m \u001b[0mcv_ft_data\u001b[0m\u001b[1;33m.\u001b[0m\u001b[0mnumpy\u001b[0m\u001b[1;33m.\u001b[0m\u001b[0masarray\u001b[0m\u001b[1;33m(\u001b[0m\u001b[1;33m)\u001b[0m\u001b[1;33m\u001b[0m\u001b[1;33m\u001b[0m\u001b[0m\n\u001b[0m",
      "\u001b[1;32m~\\Anaconda3\\lib\\site-packages\\scipy\\sparse\\base.py\u001b[0m in \u001b[0;36m__getattr__\u001b[1;34m(self, attr)\u001b[0m\n\u001b[0;32m    686\u001b[0m             \u001b[1;32mreturn\u001b[0m \u001b[0mself\u001b[0m\u001b[1;33m.\u001b[0m\u001b[0mgetnnz\u001b[0m\u001b[1;33m(\u001b[0m\u001b[1;33m)\u001b[0m\u001b[1;33m\u001b[0m\u001b[1;33m\u001b[0m\u001b[0m\n\u001b[0;32m    687\u001b[0m         \u001b[1;32melse\u001b[0m\u001b[1;33m:\u001b[0m\u001b[1;33m\u001b[0m\u001b[1;33m\u001b[0m\u001b[0m\n\u001b[1;32m--> 688\u001b[1;33m             \u001b[1;32mraise\u001b[0m \u001b[0mAttributeError\u001b[0m\u001b[1;33m(\u001b[0m\u001b[0mattr\u001b[0m \u001b[1;33m+\u001b[0m \u001b[1;34m\" not found\"\u001b[0m\u001b[1;33m)\u001b[0m\u001b[1;33m\u001b[0m\u001b[1;33m\u001b[0m\u001b[0m\n\u001b[0m\u001b[0;32m    689\u001b[0m \u001b[1;33m\u001b[0m\u001b[0m\n\u001b[0;32m    690\u001b[0m     \u001b[1;32mdef\u001b[0m \u001b[0mtranspose\u001b[0m\u001b[1;33m(\u001b[0m\u001b[0mself\u001b[0m\u001b[1;33m,\u001b[0m \u001b[0maxes\u001b[0m\u001b[1;33m=\u001b[0m\u001b[1;32mNone\u001b[0m\u001b[1;33m,\u001b[0m \u001b[0mcopy\u001b[0m\u001b[1;33m=\u001b[0m\u001b[1;32mFalse\u001b[0m\u001b[1;33m)\u001b[0m\u001b[1;33m:\u001b[0m\u001b[1;33m\u001b[0m\u001b[1;33m\u001b[0m\u001b[0m\n",
      "\u001b[1;31mAttributeError\u001b[0m: numpy not found"
     ]
    }
   ],
   "source": [
    "import numpy\n",
    "from sklearn.feature_extraction.text import CountVectorizer\n",
    "cvobj=CountVectorizer()\n",
    "cv_ft_data=cvobj.fit_transform(train_news_data.data)\n",
    "cv_ft_data.shape\n",
    "cv_ft_data.numpy.asarray()"
   ]
  },
  {
   "cell_type": "code",
   "execution_count": 30,
   "metadata": {},
   "outputs": [
    {
     "data": {
      "text/plain": [
       "(9323, 117430)"
      ]
     },
     "execution_count": 30,
     "metadata": {},
     "output_type": "execute_result"
    }
   ],
   "source": [
    "from sklearn.feature_extraction.text import TfidfTransformer\n",
    "tfidf_obj=TfidfTransformer()\n",
    "tfidf_ft_data=tfidf_obj.fit_transform(cv_ft_data)\n",
    "tfidf_ft_data.shape\n"
   ]
  },
  {
   "cell_type": "code",
   "execution_count": 152,
   "metadata": {},
   "outputs": [
    {
     "data": {
      "text/plain": [
       "MultinomialNB(alpha=1.0, class_prior=None, fit_prior=True)"
      ]
     },
     "execution_count": 152,
     "metadata": {},
     "output_type": "execute_result"
    }
   ],
   "source": [
    "from sklearn.naive_bayes import MultinomialNB\n",
    "clasifier=MultinomialNB()\n",
    "clasifier.fit(tfidf_ft_data,train_news_data.target)"
   ]
  },
  {
   "cell_type": "code",
   "execution_count": 43,
   "metadata": {},
   "outputs": [
    {
     "data": {
      "text/plain": [
       "(6205,)"
      ]
     },
     "execution_count": 43,
     "metadata": {},
     "output_type": "execute_result"
    }
   ],
   "source": [
    "cvtest=cvobj.transform(test_news_data.data)\n",
    "tfidftest=tfidf_obj.transform(cvtest)\n",
    "predict_val=clasifier.predict(tfidftest)\n",
    "predict_val.shape"
   ]
  },
  {
   "cell_type": "code",
   "execution_count": 34,
   "metadata": {},
   "outputs": [
    {
     "name": "stdout",
     "output_type": "stream",
     "text": [
      "sci.med\n",
      "comp.sys.mac.hardware\n"
     ]
    }
   ],
   "source": [
    "from sklearn.naive_bayes import MultinomialNB\n",
    "clasifier=MultinomialNB()\n",
    "clasifier.fit(tfidf_ft_data,train_news_data.target)\n",
    "check_data=['medicine','the ram is over heated']\n",
    "a=cvobj.transform(check_data)\n",
    "b=tfidf_obj.transform(a)\n",
    "r=clasifier.predict(b)\n",
    "for i in r:\n",
    "    print(targetnames[i])"
   ]
  },
  {
   "cell_type": "code",
   "execution_count": 158,
   "metadata": {},
   "outputs": [
    {
     "data": {
      "text/plain": [
       "array([[169,   0,   0,   1,   0,   1,   0,   1,   1,   1,   3,   0,   7,\n",
       "          3, 125,   7],\n",
       "       [  1, 252,  15,  12,  10,  18,   3,   1,   5,   2,  41,   4,   0,\n",
       "          6,  15,   4],\n",
       "       [  0,  14, 256,  46,   3,  10,   2,   1,   3,   2,  26,   1,   0,\n",
       "          6,  22,   2],\n",
       "       [  0,   5,  12, 306,  18,   1,   6,   1,   0,   2,  19,  13,   0,\n",
       "          5,   3,   1],\n",
       "       [  0,   2,   7,  23, 301,   1,   9,   1,   3,   1,  16,   8,   0,\n",
       "          2,   8,   3],\n",
       "       [  1,  21,  17,  13,   2, 296,   0,   1,   1,   0,  26,   0,   1,\n",
       "          5,   9,   2],\n",
       "       [  0,   1,   0,   3,   0,   0, 368,   3,   3,   2,   5,   1,   2,\n",
       "          2,   3,   3],\n",
       "       [  0,   0,   0,   1,   0,   0,  10, 372,   0,   0,   4,   0,   0,\n",
       "          1,   8,   2],\n",
       "       [  0,   0,   0,   0,   1,   0,   4,   0, 358,  21,   0,   0,   0,\n",
       "          2,  10,   1],\n",
       "       [  0,   0,   0,   0,   0,   0,   1,   0,   4, 387,   1,   0,   0,\n",
       "          1,   5,   0],\n",
       "       [  0,   2,   1,   1,   0,   1,   3,   0,   0,   0, 383,   1,   0,\n",
       "          0,   3,   1],\n",
       "       [  0,   4,   2,  18,   5,   0,   9,   9,   1,   2,  77, 235,   3,\n",
       "         11,  15,   2],\n",
       "       [  2,   5,   0,   1,   1,   3,   0,   2,   3,   3,  11,   3, 295,\n",
       "          6,  55,   6],\n",
       "       [  0,   2,   0,   1,   0,   3,   2,   1,   0,   1,   6,   1,   2,\n",
       "        353,  19,   3],\n",
       "       [  2,   0,   0,   0,   0,   0,   0,   1,   0,   0,   0,   0,   1,\n",
       "          2, 392,   0],\n",
       "       [  0,   0,   1,   1,   0,   0,   1,   2,   1,   0,   9,   0,   0,\n",
       "          1,   7, 341]], dtype=int64)"
      ]
     },
     "execution_count": 158,
     "metadata": {},
     "output_type": "execute_result"
    }
   ],
   "source": [
    "from sklearn import metrics\n",
    "from sklearn.metrics import accuracy_score\n",
    "accuracy_score(test_news_data.target,predict_val)\n",
    "metrics.confusion_matrix(test_news_data.target,predict_val)"
   ]
  },
  {
   "cell_type": "code",
   "execution_count": null,
   "metadata": {},
   "outputs": [],
   "source": []
  },
  {
   "cell_type": "code",
   "execution_count": 44,
   "metadata": {},
   "outputs": [
    {
     "data": {
      "text/plain": [
       "(6205,)"
      ]
     },
     "execution_count": 44,
     "metadata": {},
     "output_type": "execute_result"
    }
   ],
   "source": [
    "from sklearn.datasets import fetch_20newsgroups\n",
    "targetnames= ['alt.atheism',\n",
    " 'comp.graphics',\n",
    " 'comp.os.ms-windows.misc',\n",
    " 'comp.sys.ibm.pc.hardware',\n",
    " 'comp.sys.mac.hardware',\n",
    " 'comp.windows.x',\n",
    " \n",
    " 'rec.autos',\n",
    " 'rec.motorcycles',\n",
    " 'rec.sport.baseball',\n",
    " 'rec.sport.hockey',\n",
    " 'sci.crypt',\n",
    " 'sci.electronics',\n",
    " 'sci.med',\n",
    " 'sci.space',\n",
    " 'soc.religion.christian',\n",
    " 'talk.politics.guns',\n",
    "\n",
    " ]\n",
    "train_news_data = fetch_20newsgroups(subset=\"train\", categories= targetnames, shuffle=True)\n",
    "test_news_data = fetch_20newsgroups(subset=\"test\", categories= targetnames, shuffle=True)\n",
    "\n",
    "from sklearn.pipeline import Pipeline\n",
    "from sklearn.feature_extraction.text import TfidfVectorizer\n",
    "from sklearn.naive_bayes import MultinomialNB\n",
    "\n",
    "variabl = Pipeline([('tfid_obj', TfidfVectorizer()), \n",
    "                      ('clasifier-obj', MultinomialNB()) ])\n",
    "\n",
    "\n",
    "variabl.fit(train_news_data.data, train_news_data.target)\n",
    "\n",
    "\n",
    "result = variabl.predict(test_news_data.data)\n",
    "\n",
    "\n",
    "result.shape"
   ]
  },
  {
   "cell_type": "code",
   "execution_count": null,
   "metadata": {},
   "outputs": [],
   "source": []
  }
 ],
 "metadata": {
  "kernelspec": {
   "display_name": "Python 3",
   "language": "python",
   "name": "python3"
  },
  "language_info": {
   "codemirror_mode": {
    "name": "ipython",
    "version": 3
   },
   "file_extension": ".py",
   "mimetype": "text/x-python",
   "name": "python",
   "nbconvert_exporter": "python",
   "pygments_lexer": "ipython3",
   "version": "3.7.4"
  }
 },
 "nbformat": 4,
 "nbformat_minor": 2
}
